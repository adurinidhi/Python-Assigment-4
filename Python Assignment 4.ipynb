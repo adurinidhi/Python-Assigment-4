{
 "cells": [
  {
   "cell_type": "code",
   "execution_count": 1,
   "id": "f67813e3",
   "metadata": {},
   "outputs": [],
   "source": [
    "#Write a Python Program(with class concepts) to find the area of the triangle using the below\n",
    "#formula.\n",
    "#area = (s*(s-a)*(s-b)*(s-c)) ** 0.5"
   ]
  },
  {
   "cell_type": "code",
   "execution_count": 22,
   "id": "9aef792f",
   "metadata": {},
   "outputs": [],
   "source": [
    "class Triangle:\n",
    "    def __init__(self,A,B,C):\n",
    "        self.a=A\n",
    "        self.b=B\n",
    "        self.c=C\n",
    "        \n",
    "    def printnum(self):\n",
    "        print(\"a,b,c=\",self.a,self.b,self.c)\n",
    "\n",
    "class Area(Triangle):\n",
    "    def area(self):\n",
    "        s=(self.a+self.b+self.c)/2\n",
    "        a=self.a\n",
    "        b=self.b\n",
    "        c=self.c\n",
    "        return (s*(s-a)*(s-b)*(s-c)) ** 0.5 \n",
    "        "
   ]
  },
  {
   "cell_type": "code",
   "execution_count": 23,
   "id": "40a805d6",
   "metadata": {},
   "outputs": [
    {
     "name": "stdout",
     "output_type": "stream",
     "text": [
      "Enter triangle side A5\n",
      "Enter triangle side B6\n",
      "Enter triangle side C7\n",
      "a,b,c= 5 6 7\n"
     ]
    },
    {
     "data": {
      "text/plain": [
       "14.696938456699069"
      ]
     },
     "execution_count": 23,
     "metadata": {},
     "output_type": "execute_result"
    }
   ],
   "source": [
    "A=int(input(\"Enter triangle side A\"))\n",
    "B=int(input(\"Enter triangle side B\"))\n",
    "C=int(input(\"Enter triangle side C\"))\n",
    "x=Area(A,B,C)\n",
    "x.printnum()\n",
    "x.area()"
   ]
  },
  {
   "cell_type": "code",
   "execution_count": null,
   "id": "c7b7557f",
   "metadata": {},
   "outputs": [],
   "source": [
    "#Write a function filter_long_words() that takes a list of words and an integer n and returns\n",
    "#the list of words that are longer than n."
   ]
  },
  {
   "cell_type": "code",
   "execution_count": 31,
   "id": "68d40ac3",
   "metadata": {},
   "outputs": [],
   "source": [
    "def listOfWords(listofwords,n):\n",
    "    return [i for i in listofwords if len(i)>n]"
   ]
  },
  {
   "cell_type": "code",
   "execution_count": 33,
   "id": "388256c7",
   "metadata": {},
   "outputs": [
    {
     "name": "stdout",
     "output_type": "stream",
     "text": [
      "['abdfsf', 'adfsgr']\n"
     ]
    }
   ],
   "source": [
    "WordsLongerthanN=listOfWords(['abdfsf','adfsgr','dfsd'],5)\n",
    "print(WordsLongerthanN)"
   ]
  },
  {
   "cell_type": "code",
   "execution_count": 34,
   "id": "e6380d08",
   "metadata": {},
   "outputs": [],
   "source": [
    "#Write a Python program using function concept that maps list of words into a list of integers\n",
    "#representing the lengths of the corresponding words."
   ]
  },
  {
   "cell_type": "code",
   "execution_count": 35,
   "id": "aace756e",
   "metadata": {},
   "outputs": [],
   "source": [
    "def WordCountList(list_):\n",
    "    return [len(i) for i in list_]"
   ]
  },
  {
   "cell_type": "code",
   "execution_count": 37,
   "id": "faff8d66",
   "metadata": {},
   "outputs": [
    {
     "name": "stdout",
     "output_type": "stream",
     "text": [
      "[2, 3, 4]\n"
     ]
    }
   ],
   "source": [
    "print(WordCountList(['ab','cde','erty']))"
   ]
  },
  {
   "cell_type": "code",
   "execution_count": 39,
   "id": "773e577e",
   "metadata": {},
   "outputs": [],
   "source": [
    "# Write a Python function which takes a character (i.e. a string of length 1) and returns True if\n",
    "# it is a vowel, False otherwise."
   ]
  },
  {
   "cell_type": "code",
   "execution_count": 44,
   "id": "b15a67e1",
   "metadata": {},
   "outputs": [],
   "source": [
    "def VowelOrNot(char):\n",
    "    vowels=['a','e','i','o','u']\n",
    "    if(char in vowels):\n",
    "        return True\n",
    "    else:\n",
    "        return False"
   ]
  },
  {
   "cell_type": "code",
   "execution_count": 46,
   "id": "1d897509",
   "metadata": {},
   "outputs": [
    {
     "name": "stdout",
     "output_type": "stream",
     "text": [
      "Enter a single character a\n",
      "True\n"
     ]
    }
   ],
   "source": [
    "a=input(\"Enter a single character \")\n",
    "if(len(a)>1):\n",
    "    print(\"Sorry, please enter single character\")\n",
    "else:\n",
    "    print(VowelOrNot(a))"
   ]
  },
  {
   "cell_type": "code",
   "execution_count": null,
   "id": "fb788f37",
   "metadata": {},
   "outputs": [],
   "source": []
  }
 ],
 "metadata": {
  "kernelspec": {
   "display_name": "Python 3",
   "language": "python",
   "name": "python3"
  },
  "language_info": {
   "codemirror_mode": {
    "name": "ipython",
    "version": 3
   },
   "file_extension": ".py",
   "mimetype": "text/x-python",
   "name": "python",
   "nbconvert_exporter": "python",
   "pygments_lexer": "ipython3",
   "version": "3.8.8"
  }
 },
 "nbformat": 4,
 "nbformat_minor": 5
}
